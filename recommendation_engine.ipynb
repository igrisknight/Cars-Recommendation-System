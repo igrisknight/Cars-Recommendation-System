{
 "cells": [
  {
   "cell_type": "code",
   "execution_count": null,
   "metadata": {},
   "outputs": [
    {
     "ename": "ModuleNotFoundError",
     "evalue": "No module named 'train_classification_component'",
     "output_type": "error",
     "traceback": [
      "\u001b[1;31m---------------------------------------------------------------------------\u001b[0m",
      "\u001b[1;31mModuleNotFoundError\u001b[0m                       Traceback (most recent call last)",
      "Cell \u001b[1;32mIn[7], line 4\u001b[0m\n\u001b[0;32m      2\u001b[0m \u001b[38;5;28;01mimport\u001b[39;00m\u001b[38;5;250m \u001b[39m\u001b[38;5;21;01mnumpy\u001b[39;00m\u001b[38;5;250m \u001b[39m\u001b[38;5;28;01mas\u001b[39;00m\u001b[38;5;250m \u001b[39m\u001b[38;5;21;01mnp\u001b[39;00m\n\u001b[0;32m      3\u001b[0m \u001b[38;5;28;01mfrom\u001b[39;00m\u001b[38;5;250m \u001b[39m\u001b[38;5;21;01msklearn\u001b[39;00m\u001b[38;5;21;01m.\u001b[39;00m\u001b[38;5;21;01mmetrics\u001b[39;00m\u001b[38;5;21;01m.\u001b[39;00m\u001b[38;5;21;01mpairwise\u001b[39;00m\u001b[38;5;250m \u001b[39m\u001b[38;5;28;01mimport\u001b[39;00m cosine_similarity\n\u001b[1;32m----> 4\u001b[0m \u001b[38;5;28;01mimport\u001b[39;00m\u001b[38;5;250m \u001b[39m\u001b[38;5;21;01mtrain_classification_component\u001b[39;00m\n",
      "\u001b[1;31mModuleNotFoundError\u001b[0m: No module named 'train_classification_component'"
     ]
    }
   ],
   "source": [
    "import pandas as pd\n",
    "import numpy as np\n",
    "from sklearn.metrics.pairwise import cosine_similarity\n",
    "from classification_component"
   ]
  },
  {
   "cell_type": "code",
   "execution_count": 3,
   "metadata": {},
   "outputs": [
    {
     "name": "stdout",
     "output_type": "stream",
     "text": [
      "\n",
      "User Preference DataFrame: \n",
      "  company fuelType transmission carType     price  kilometer  warranty  \\\n",
      "0  toyota   petrol       manual     suv  120000.0    10000.0      True   \n",
      "\n",
      "   qualityscore  \n",
      "0          10.0  \n"
     ]
    }
   ],
   "source": [
    "# 1. Stimulate User Preferences\n",
    "# Define s dictionary representing a user's preference.\n",
    "# Ensure that the keys exactly match the feature names in your original X\n",
    "# Function to capture user preference via command-line input\n",
    "def get_user_preference():\n",
    "    company = input(\"Enter Company Name (eg., TOYOTA): \").strip()\n",
    "    fuelType = input(\"Enter the Fuel type (eg., Petrol): \").strip()\n",
    "    transmission = input(\"Enter the Transmission type (eg., Manual): \").strip()\n",
    "    carType = input(\"Enter the Car Type (eg., Sedan): \").strip()\n",
    "    price = float(input(\"Enter your target price: \"))\n",
    "    kilometer = float(input(\"Enter your desired mileage: \"))\n",
    "    warranty = input(\"Do you prefer a car with warranty? (yes/no): \").strip().lower()\n",
    "    warranty = True if warranty == \"yes\" else False\n",
    "    qualityscore = float(input(\"Enter a desired quality score (eg., 7.5): \"))\n",
    "\n",
    "    # Create a user dictionary with the user preferences\n",
    "    return {\n",
    "        'company': company,\n",
    "        'fuelType': fuelType,\n",
    "        'transmission': transmission,\n",
    "        'carType': carType,\n",
    "        'price': price,\n",
    "        'kilometer': kilometer,\n",
    "        'warranty': warranty,\n",
    "        'qualityscore': qualityscore\n",
    "    }\n",
    "\n",
    "# 2. Capture User Preference and create Dataframe\n",
    "user_pref = get_user_preference()\n",
    "user_df = pd.DataFrame([user_pref])\n",
    "print(\"\\nUser Preference DataFrame: \")\n",
    "print(user_df)\n",
    "\n"
   ]
  },
  {
   "cell_type": "code",
   "execution_count": 5,
   "metadata": {},
   "outputs": [
    {
     "ename": "NameError",
     "evalue": "name 'best_lr' is not defined",
     "output_type": "error",
     "traceback": [
      "\u001b[1;31m---------------------------------------------------------------------------\u001b[0m",
      "\u001b[1;31mNameError\u001b[0m                                 Traceback (most recent call last)",
      "Cell \u001b[1;32mIn[5], line 4\u001b[0m\n\u001b[0;32m      1\u001b[0m \u001b[38;5;66;03m# 3. Transform Data into Freature Vector\u001b[39;00m\n\u001b[0;32m      2\u001b[0m \n\u001b[0;32m      3\u001b[0m \u001b[38;5;66;03m#Extract the fitted preprocessor from the best_lr pipeline\u001b[39;00m\n\u001b[1;32m----> 4\u001b[0m preprocessor_fitted \u001b[38;5;241m=\u001b[39m \u001b[43mbest_lr\u001b[49m\u001b[38;5;241m.\u001b[39mnamed_steps[\u001b[38;5;124m'\u001b[39m\u001b[38;5;124mpreprocessor\u001b[39m\u001b[38;5;124m'\u001b[39m]\n\u001b[0;32m      6\u001b[0m \u001b[38;5;66;03m# Transform candidate car feature into the same feature space\u001b[39;00m\n\u001b[0;32m      7\u001b[0m candidate_features \u001b[38;5;241m=\u001b[39m preprocessor_fitted\u001b[38;5;241m.\u001b[39mtransform(X)\n",
      "\u001b[1;31mNameError\u001b[0m: name 'best_lr' is not defined"
     ]
    }
   ],
   "source": [
    "# 3. Transform Data into Freature Vector\n",
    "\n",
    "#Extract the fitted preprocessor from the best_lr pipeline\n",
    "preprocessor_fitted = best_lr.named_steps['preprocessor']\n",
    "\n",
    "# Transform candidate car feature into the same feature space\n",
    "candidate_features = preprocessor_fitted.transform(X)\n",
    "\n",
    "# Transform the user's preference into a feature vector\n",
    "user_features = preprocessor_fitted.transform(user_df)\n"
   ]
  },
  {
   "cell_type": "code",
   "execution_count": null,
   "metadata": {},
   "outputs": [],
   "source": []
  }
 ],
 "metadata": {
  "kernelspec": {
   "display_name": "Python 3",
   "language": "python",
   "name": "python3"
  },
  "language_info": {
   "codemirror_mode": {
    "name": "ipython",
    "version": 3
   },
   "file_extension": ".py",
   "mimetype": "text/x-python",
   "name": "python",
   "nbconvert_exporter": "python",
   "pygments_lexer": "ipython3",
   "version": "3.13.2"
  }
 },
 "nbformat": 4,
 "nbformat_minor": 2
}
