{
 "cells": [
  {
   "cell_type": "code",
   "execution_count": 20,
   "metadata": {},
   "outputs": [],
   "source": [
    "import import_ipynb\n",
    "import classification_component\n",
    "from classification_component import train_classification_component\n",
    "import pandas as pd\n",
    "import numpy as np\n",
    "from sklearn.metrics.pairwise import cosine_similarity"
   ]
  },
  {
   "cell_type": "code",
   "execution_count": 21,
   "metadata": {},
   "outputs": [
    {
     "name": "stderr",
     "output_type": "stream",
     "text": [
      "c:\\Users\\dell\\AppData\\Local\\Programs\\Python\\Python313\\Lib\\site-packages\\sklearn\\impute\\_base.py:635: UserWarning: Skipping features without any observed values: ['price']. At least one non-missing value is needed for imputation with strategy='mean'.\n",
      "  warnings.warn(\n"
     ]
    }
   ],
   "source": [
    "# 1. Obtain the Trained Classification Pipeline and Candidate Data\n",
    "# This function train the classification component and returns:\n",
    "#   best _lr: the best tuned Logistic Regression pipeline\n",
    "#   X: the candidate freatures DataFrame (all the raw features used for recommendation)\n",
    "best_lr, X = train_classification_component(\"preprocess_used_cars.csv\")\n",
    "\n",
    "# Extract the fitted preprocessor from the pipeline\n",
    "preprocessor_fitted = best_lr.named_steps['preprocessor']\n",
    "\n",
    "# Transform the candidate car feature into the same feature space\n",
    "candidate_feature = preprocessor_fitted.transform(X)"
   ]
  },
  {
   "cell_type": "code",
   "execution_count": 22,
   "metadata": {},
   "outputs": [
    {
     "name": "stdout",
     "output_type": "stream",
     "text": [
      "\n",
      "User Preference DataFrame: \n",
      "  company fuelType transmission carType      price  kilometer  warranty  \\\n",
      "0     BMW   petrol       manual   sedan  1000000.0    12000.0      True   \n",
      "\n",
      "   qualityscore  \n",
      "0           7.5  \n",
      "\n",
      " User preferences DataFrame after add missing columns: \n",
      "   id company    model  variant fueltype   colour  kilometer manufacturedate  \\\n",
      "0 NaN     BMW  Unknown  Unknown  Unknown  Unknown    12000.0         Unknown   \n",
      "\n",
      "   modelyear      price  ... transmissiontype_m  transmissiontype_manual  \\\n",
      "0        NaN  1000000.0  ...                NaN                  Unknown   \n",
      "\n",
      "   transmissiontype_manual  transmissiontype_unknown  transmissiontype_manual  \\\n",
      "0                  Unknown                       NaN                  Unknown   \n",
      "\n",
      "   cngkit_company fitted  cngkit_unknown  owner_2nd owner  owner_3rd owner  \\\n",
      "0                    NaN             NaN              NaN              NaN   \n",
      "\n",
      "  owner_4th owner  \n",
      "0             NaN  \n",
      "\n",
      "[1 rows x 38 columns]\n"
     ]
    }
   ],
   "source": [
    "# 1. Stimulate User Preferences\n",
    "# Define s dictionary representing a user's preference.\n",
    "# Ensure that the keys exactly match the feature names in your original X\n",
    "# Function to capture user preference via command-line input\n",
    "def get_user_preference():\n",
    "    company = input(\"Enter Company Name (eg., TOYOTA): \").strip()\n",
    "    fuelType = input(\"Enter the Fuel type (eg., Petrol): \").strip()\n",
    "    transmission = input(\"Enter the Transmission type (eg., Manual): \").strip()\n",
    "    carType = input(\"Enter the Car Type (eg., Sedan): \").strip()\n",
    "    price = float(input(\"Enter your target price: \"))\n",
    "    kilometer = float(input(\"Enter your desired mileage: \"))\n",
    "    warranty = input(\"Do you prefer a car with warranty? (yes/no): \").strip().lower()\n",
    "    warranty = True if warranty == \"yes\" else False\n",
    "    qualityscore = float(input(\"Enter a desired quality score (eg., 7.5): \"))\n",
    "\n",
    "    # Create a user dictionary with the user preferences\n",
    "    return {\n",
    "        'company': company,\n",
    "        'fuelType': fuelType,\n",
    "        'transmission': transmission,\n",
    "        'carType': carType,\n",
    "        'price': price,\n",
    "        'kilometer': kilometer,\n",
    "        'warranty': warranty,\n",
    "        'qualityscore': qualityscore\n",
    "    }\n",
    "\n",
    "# 2. Capture User Preference and create Dataframe\n",
    "user_pref = get_user_preference()\n",
    "user_df = pd.DataFrame([user_pref])\n",
    "print(\"\\nUser Preference DataFrame: \")\n",
    "print(user_df)\n",
    "\n",
    "# Ensure user_df contains all columns expected by the preprocessor\n",
    "# X is our candidate DataFrame used during training, do it contains all columns.\n",
    "# We need to add any columns from X that are missing in user_df\n",
    "for col in X.columns:\n",
    "    if col not in user_df.columns:\n",
    "        # Check the type of the column in X\n",
    "        if pd.api.types.is_numeric_dtype(X[col]):\n",
    "            # For numeric columns, fill with NaN (or you might choose the median value)\n",
    "            user_df[col] = np.nan\n",
    "        else:\n",
    "            # For non-numerical columns, fill with \"Unknown\" (or any appropriate default)\n",
    "            user_df[col] = \"Unknown\"\n",
    "\n",
    "# Reorder columns in user_df to match the order in X\n",
    "user_df = user_df[X.columns]\n",
    "\n",
    "print(\"\\n User preferences DataFrame after add missing columns: \")\n",
    "print(user_df)\n",
    "\n"
   ]
  },
  {
   "cell_type": "code",
   "execution_count": 23,
   "metadata": {},
   "outputs": [
    {
     "name": "stderr",
     "output_type": "stream",
     "text": [
      "c:\\Users\\dell\\AppData\\Local\\Programs\\Python\\Python313\\Lib\\site-packages\\sklearn\\impute\\_base.py:635: UserWarning: Skipping features without any observed values: ['price']. At least one non-missing value is needed for imputation with strategy='mean'.\n",
      "  warnings.warn(\n"
     ]
    }
   ],
   "source": [
    "# 3. Transform User Input into Feature Space\n",
    "# Use the same preprocessor from the trained pipeline to transform the user input\n",
    "user_freatures = preprocessor_fitted.transform(user_df)"
   ]
  },
  {
   "cell_type": "code",
   "execution_count": 24,
   "metadata": {},
   "outputs": [],
   "source": [
    "# Compute cosine similarity between the user and each candidate car vector\n",
    "similarity_scores = cosine_similarity(user_freatures, candidate_feature).flatten()"
   ]
  },
  {
   "cell_type": "code",
   "execution_count": 25,
   "metadata": {},
   "outputs": [
    {
     "name": "stdout",
     "output_type": "stream",
     "text": [
      "\n",
      "Top Recommendation based on your preferences: \n",
      "         id        company                 model              variant  \\\n",
      "817  559249       MAHINDRA                XUV500                   W8   \n",
      "618  556196  MERCEDES BENZ               C CLASS    200 K ELEGANCE AT   \n",
      "318  558239         TOYOTA  FORTUNER (2012_2016)           3.0 4X2 AT   \n",
      "166  557826          SKODA                 RAPID  1.5 TDI CR AMBITION   \n",
      "981  551865        HYUNDAI                   I20     SPORTZ 1.2 BS IV   \n",
      "\n",
      "    fueltype        colour  kilometer manufacturedate  modelyear  price  ...  \\\n",
      "817   DIESEL        Silver   2.677717      01-02-2013       2013    NaN  ...   \n",
      "618   PETROL  Arizona Grey   2.677717      01-01-2010       2010    NaN  ...   \n",
      "318   DIESEL         White   2.677717      01-04-2015       2015    NaN  ...   \n",
      "166   DIESEL        Silver   2.677717      01-10-2016       2016    NaN  ...   \n",
      "981   PETROL        G. Red   2.677717      01-01-2010       2010    NaN  ...   \n",
      "\n",
      "     transmissiontype_manual  transmissiontype_manual  \\\n",
      "817                    False                     True   \n",
      "618                    False                    False   \n",
      "318                    False                    False   \n",
      "166                    False                    False   \n",
      "981                    False                     True   \n",
      "\n",
      "    transmissiontype_unknown  transmissiontype_manual  cngkit_company fitted  \\\n",
      "817                    False                    False                  False   \n",
      "618                    False                    False                  False   \n",
      "318                     True                    False                  False   \n",
      "166                     True                    False                  False   \n",
      "981                    False                    False                  False   \n",
      "\n",
      "     cngkit_unknown  owner_2nd owner  owner_3rd owner  owner_4th owner  \\\n",
      "817            True            False            False            False   \n",
      "618            True            False            False            False   \n",
      "318            True             True            False            False   \n",
      "166            True            False            False            False   \n",
      "981            True            False            False            False   \n",
      "\n",
      "     similarity_score  \n",
      "817          0.999777  \n",
      "618          0.999777  \n",
      "318          0.999777  \n",
      "166          0.999777  \n",
      "981          0.999777  \n",
      "\n",
      "[5 rows x 39 columns]\n"
     ]
    }
   ],
   "source": [
    "# Rank candidate based on similarity (highest similarity first)\n",
    "sorted_indicies = np.argsort(similarity_scores)[::-1]\n",
    "top_n = 5\n",
    "top_recommendations = X.iloc[sorted_indicies[:top_n]].copy()\n",
    "top_recommendations['similarity_score'] = similarity_scores[sorted_indicies[:top_n]]\n",
    "\n",
    "print(\"\\nTop Recommendation based on your preferences: \")\n",
    "print(top_recommendations)"
   ]
  },
  {
   "cell_type": "code",
   "execution_count": null,
   "metadata": {},
   "outputs": [],
   "source": []
  }
 ],
 "metadata": {
  "kernelspec": {
   "display_name": "Python 3",
   "language": "python",
   "name": "python3"
  },
  "language_info": {
   "codemirror_mode": {
    "name": "ipython",
    "version": 3
   },
   "file_extension": ".py",
   "mimetype": "text/x-python",
   "name": "python",
   "nbconvert_exporter": "python",
   "pygments_lexer": "ipython3",
   "version": "3.13.2"
  }
 },
 "nbformat": 4,
 "nbformat_minor": 2
}
