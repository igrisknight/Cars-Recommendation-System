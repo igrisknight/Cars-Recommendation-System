{
 "cells": [
  {
   "cell_type": "code",
   "execution_count": null,
   "id": "ebbec52c-8544-48bf-a034-c4c29175936f",
   "metadata": {},
   "outputs": [],
   "source": [
    "\"\"recommendation system for used cars\n",
    "step 1 -- Data Processing\n",
    "1. handling missing values\n",
    "2. converting categorical values\n",
    "3. standardize numerical values\"\"\n",
    "\n",
    "# importing the required libraries\n",
    "\n",
    "\n"
   ]
  }
 ],
 "metadata": {
  "kernelspec": {
   "display_name": "Python 3 (ipykernel)",
   "language": "python",
   "name": "python3"
  },
  "language_info": {
   "codemirror_mode": {
    "name": "ipython",
    "version": 3
   },
   "file_extension": ".py",
   "mimetype": "text/x-python",
   "name": "python",
   "nbconvert_exporter": "python",
   "pygments_lexer": "ipython3",
   "version": "3.12.4"
  }
 },
 "nbformat": 4,
 "nbformat_minor": 5
}
