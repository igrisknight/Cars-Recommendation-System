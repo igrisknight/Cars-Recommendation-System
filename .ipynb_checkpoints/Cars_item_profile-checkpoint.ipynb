{
 "cells": [
  {
   "cell_type": "code",
   "execution_count": 65,
   "id": "5c64b4eb-3734-493f-8334-605b9fe1eeed",
   "metadata": {},
   "outputs": [],
   "source": [
    "import pandas as pd"
   ]
  },
  {
   "cell_type": "code",
   "execution_count": 66,
   "id": "2f95390b-d6ad-4e56-af65-ed33b4b8db5c",
   "metadata": {},
   "outputs": [],
   "source": [
    "# Load the cleaned data set\n",
    "file_path = 'cleaned_usedCars.csv'\n",
    "df = pd.read_csv(file_path)"
   ]
  },
  {
   "cell_type": "code",
   "execution_count": 67,
   "id": "28b9e209-3cb4-4a48-b6f7-750ea3da88d4",
   "metadata": {},
   "outputs": [],
   "source": [
    "# Select relevant attributes for item profile\n",
    "selected_columns = ['Company', 'Model', 'Variant', 'FuelType', 'TransmissionType', 'ManufactureDate', \n",
    "                    'Kilometer', 'Owner', 'Price', 'Colour']"
   ]
  },
  {
   "cell_type": "code",
   "execution_count": 68,
   "id": "8aa7980b-60b7-46de-8354-69a63afd7f39",
   "metadata": {},
   "outputs": [],
   "source": [
    "item_profiles = df[selected_columns].copy()"
   ]
  },
  {
   "cell_type": "code",
   "execution_count": 69,
   "id": "4f985ac4-9426-4b3d-b782-d8522dec7356",
   "metadata": {},
   "outputs": [],
   "source": [
    "# Normalize categorical data\n",
    "item_profiles['Company'] = item_profiles['Company'].str.title().str.strip()\n",
    "item_profiles['Model'] = item_profiles['Model'].str.upper().str.strip()\n",
    "item_profiles['Variant'] = item_profiles['Variant'].str.upper().str.strip()\n",
    "item_profiles['Colour'] = item_profiles['Colour'].str.capitalize().str.strip()"
   ]
  },
  {
   "cell_type": "code",
   "execution_count": 70,
   "id": "1c033fc3-0548-49b2-a896-6a94871d086d",
   "metadata": {},
   "outputs": [],
   "source": [
    "# Convert categorical values to numerical encoding\n",
    "\n",
    "# ✅ FuelType: 1-Petrol, 2-Diesel, 3-CNG, 0-Unknown\n",
    "fuel_mapping = {'Petrol': 1, 'Diesel': 2, 'CNG': 3}\n",
    "item_profiles['FuelType'] = item_profiles['FuelType'].map(fuel_mapping).fillna(0).astype(int)\n",
    "\n",
    "# ✅ TransmissionType: 0-Manual, 1-Automatic, 0 for unknown\n",
    "transmission_mapping = {'Manual': 0, 'Automatic': 1}\n",
    "item_profiles['TransmissionType'] = item_profiles['TransmissionType'].map(transmission_mapping).fillna(0).astype(int)\n",
    "\n",
    "# ✅ Colour: Assign codes in order of occurrence\n",
    "color_mapping = {}\n",
    "color_counter = 0\n",
    "color_codes = []\n",
    "\n",
    "for color in item_profiles['Colour']:\n",
    "    if color not in color_mapping:\n",
    "        color_mapping[color] = color_counter\n",
    "        color_counter += 1\n",
    "    color_codes.append(color_mapping[color])\n",
    "\n",
    "item_profiles['Colour'] = color_codes"
   ]
  },
  {
   "cell_type": "code",
   "execution_count": 71,
   "id": "cbc34f5c-d73a-45b8-b97a-7195fc2160d7",
   "metadata": {},
   "outputs": [],
   "source": [
    "# Create a unique identifier for each car\n",
    "item_profiles['Car_ID'] = item_profiles['Company'] + \" \" + item_profiles['Model'] + \" \" + item_profiles['Variant']"
   ]
  },
  {
   "cell_type": "code",
   "execution_count": 72,
   "id": "238c84fe-f8e2-4f06-9837-f970606adc79",
   "metadata": {},
   "outputs": [
    {
     "name": "stdout",
     "output_type": "stream",
     "text": [
      "Item profiles successfully created and saved as 'item_profiles.csv'.\n",
      "         Company               Model           Variant  FuelType  \\\n",
      "0  Maruti Suzuki  CELERIO(2017-2019)     1.0 ZXI AMT O         0   \n",
      "1  Maruti Suzuki                ALTO               LXI         0   \n",
      "2        Hyundai           GRAND I10    1.2 KAPPA ASTA         0   \n",
      "3           Tata               NEXON           XT PLUS         0   \n",
      "4           Ford                FIGO  EXI DURATORQ 1.4         0   \n",
      "\n",
      "   TransmissionType ManufactureDate  Kilometer  Owner   Price  Colour  \\\n",
      "0                 0      02-01-2018      33197      1  575000       0   \n",
      "1                 0      03-01-2021      10322      1  435000       1   \n",
      "2                 0      03-01-2015      37889      1  470000       2   \n",
      "3                 0      08-01-2020      13106      1  990000       3   \n",
      "4                 0      11-01-2010     104614      2  270000       0   \n",
      "\n",
      "                                           Car_ID  \n",
      "0  Maruti Suzuki CELERIO(2017-2019) 1.0 ZXI AMT O  \n",
      "1                          Maruti Suzuki ALTO LXI  \n",
      "2                Hyundai GRAND I10 1.2 KAPPA ASTA  \n",
      "3                              Tata NEXON XT PLUS  \n",
      "4                      Ford FIGO EXI DURATORQ 1.4  \n"
     ]
    }
   ],
   "source": [
    "# Save the item profile\n",
    "item_profiles.to_csv(\"C:/Users/Admin/Desktop/tybsc D98/Cars-Recommendation-System/item_profiles.csv\", index=False)\n",
    "\n",
    "print(\"Item profiles successfully created and saved as 'item_profiles.csv'.\")\n",
    "print(item_profiles.head())"
   ]
  },
  {
   "cell_type": "code",
   "execution_count": null,
   "id": "2aabd6c9-0b34-4fb0-85f6-987671deafe4",
   "metadata": {},
   "outputs": [],
   "source": []
  }
 ],
 "metadata": {
  "kernelspec": {
   "display_name": "Python 3 (ipykernel)",
   "language": "python",
   "name": "python3"
  },
  "language_info": {
   "codemirror_mode": {
    "name": "ipython",
    "version": 3
   },
   "file_extension": ".py",
   "mimetype": "text/x-python",
   "name": "python",
   "nbconvert_exporter": "python",
   "pygments_lexer": "ipython3",
   "version": "3.12.4"
  }
 },
 "nbformat": 4,
 "nbformat_minor": 5
}
