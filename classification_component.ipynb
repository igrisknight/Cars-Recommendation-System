{
 "cells": [
  {
   "cell_type": "code",
   "execution_count": 5,
   "metadata": {},
   "outputs": [
    {
     "name": "stdout",
     "output_type": "stream",
     "text": [
      "Trained model saved at trained_model.joblib\n",
      "Preprocessor saved at preprocessor.joblib\n"
     ]
    }
   ],
   "source": [
    "import pandas as pd\n",
    "import numpy as np\n",
    "from sklearn.pipeline import Pipeline\n",
    "from sklearn.compose import ColumnTransformer\n",
    "from sklearn.impute import SimpleImputer\n",
    "from sklearn.preprocessing import MinMaxScaler, OneHotEncoder\n",
    "from sklearn.ensemble import RandomForestClassifier\n",
    "from sklearn.model_selection import train_test_split\n",
    "import joblib\n",
    "\n",
    "# ---------------------------\n",
    "# Classification Module\n",
    "# ---------------------------\n",
    "def train_classifier(\n",
    "    preprocessed_csv: str,\n",
    "    model_path: str,\n",
    "    preprocessor_path: str\n",
    ") -> None:\n",
    "    \"\"\"\n",
    "    Trains a RandomForest classifier on preprocessed data,\n",
    "    saves the full pipeline and the preprocessor separately.\n",
    "    \"\"\"\n",
    "    df = pd.read_csv(preprocessed_csv)\n",
    "\n",
    "    # Ensure lowercase columns\n",
    "    df.columns = df.columns.str.strip().str.lower()\n",
    "\n",
    "    # Create binary target based on qualityscore median\n",
    "    median_q = df['qualityscore'].median()\n",
    "    df['suitability'] = (df['qualityscore'] > median_q).astype(int)\n",
    "\n",
    "    # Features and target\n",
    "    X = df.drop(columns=['suitability', 'qualityscore'])\n",
    "    y = df['suitability']\n",
    "\n",
    "    # Split data\n",
    "    X_train, X_test, y_train, y_test = train_test_split(\n",
    "        X, y, test_size=0.2, stratify=y, random_state=42\n",
    "    )\n",
    "\n",
    "    # Define preprocessing pipelines\n",
    "    num_cols = X.select_dtypes(include=[np.number]).columns.tolist()\n",
    "    cat_cols = X.select_dtypes(include='object').columns.tolist()\n",
    "\n",
    "    num_pipe = Pipeline([\n",
    "        ('imputer', SimpleImputer(strategy='median')),\n",
    "        ('scaler', MinMaxScaler())\n",
    "    ])\n",
    "    cat_pipe = Pipeline([\n",
    "        ('imputer', SimpleImputer(strategy='most_frequent')),\n",
    "        ('ohe', OneHotEncoder(handle_unknown='ignore'))\n",
    "    ])\n",
    "\n",
    "    preprocessor = ColumnTransformer([\n",
    "        ('num', num_pipe, num_cols),\n",
    "        ('cat', cat_pipe, cat_cols)\n",
    "    ])\n",
    "\n",
    "    # Full pipeline\n",
    "    pipeline = Pipeline([\n",
    "        ('preprocessor', preprocessor),\n",
    "        ('classifier', RandomForestClassifier(random_state=42))\n",
    "    ])\n",
    "\n",
    "    # Train and save\n",
    "    pipeline.fit(X_train, y_train)\n",
    "    joblib.dump(pipeline, model_path)\n",
    "    joblib.dump(preprocessor, preprocessor_path)\n",
    "    print(f\"Trained model saved at {model_path}\")\n",
    "    print(f\"Preprocessor saved at {preprocessor_path}\")\n",
    "\n",
    "\n",
    "if __name__ == '__main__':\n",
    "    # Example usage\n",
    "    train_classifier(\n",
    "        'preprocess_used_cars.csv',\n",
    "        'trained_model.joblib',\n",
    "        'preprocessor.joblib'\n",
    "    )\n"
   ]
  },
  {
   "cell_type": "code",
   "execution_count": null,
   "metadata": {},
   "outputs": [],
   "source": []
  }
 ],
 "metadata": {
  "kernelspec": {
   "display_name": "Python 3",
   "language": "python",
   "name": "python3"
  },
  "language_info": {
   "codemirror_mode": {
    "name": "ipython",
    "version": 3
   },
   "file_extension": ".py",
   "mimetype": "text/x-python",
   "name": "python",
   "nbconvert_exporter": "python",
   "pygments_lexer": "ipython3",
   "version": "3.13.2"
  }
 },
 "nbformat": 4,
 "nbformat_minor": 2
}
