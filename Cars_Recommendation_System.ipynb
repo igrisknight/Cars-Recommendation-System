{
 "cells": [
  {
   "cell_type": "code",
   "execution_count": 1,
   "id": "ebbec52c-8544-48bf-a034-c4c29175936f",
   "metadata": {},
   "outputs": [],
   "source": [
    "# importing the required libraries\n",
    "import pandas as pd\n",
    "import numpy as np"
   ]
  },
  {
   "cell_type": "code",
   "execution_count": 15,
   "id": "e2a6ad46-bd52-41b2-ba9c-7fa46c6171bf",
   "metadata": {},
   "outputs": [
    {
     "name": "stdout",
     "output_type": "stream",
     "text": [
      "                                    name  year  selling_price  km_driven  \\\n",
      "0                 Maruti Swift Dzire VDI  2014         450000     145500   \n",
      "1           Skoda Rapid 1.5 TDI Ambition  2014         370000     120000   \n",
      "2               Honda City 2017-2020 EXi  2006         158000     140000   \n",
      "3              Hyundai i20 Sportz Diesel  2010         225000     127000   \n",
      "4                 Maruti Swift VXI BSIII  2007         130000     120000   \n",
      "5          Hyundai Xcent 1.2 VTVT E Plus  2017         440000      45000   \n",
      "6           Maruti Wagon R LXI DUO BSIII  2007          96000     175000   \n",
      "7                     Maruti 800 DX BSII  2001          45000       5000   \n",
      "8                       Toyota Etios VXD  2011         350000      90000   \n",
      "9   Ford Figo Diesel Celebration Edition  2013         200000     169000   \n",
      "10       Renault Duster 110PS Diesel RxL  2014         500000      68000   \n",
      "11                         Maruti Zen LX  2005          92000     100000   \n",
      "12                Maruti Swift Dzire VDi  2009         280000     140000   \n",
      "13                  Maruti Swift 1.3 VXi  2007         200000      80000   \n",
      "14              Maruti Wagon R LXI Minor  2009         180000      90000   \n",
      "15  Mahindra KUV 100 mFALCON G80 K8 5str  2016         400000      40000   \n",
      "16                Maruti Ertiga SHVS VDI  2016         778000      70000   \n",
      "17             Hyundai i20 1.4 CRDi Asta  2012         500000      53000   \n",
      "18                        Maruti Alto LX  2002         150000      80000   \n",
      "\n",
      "      fuel seller_type transmission         owner  mileage(km/ltr/kg)  engine  \\\n",
      "0   Diesel  Individual       Manual   First Owner               23.40  1248.0   \n",
      "1   Diesel  Individual       Manual  Second Owner               21.14  1498.0   \n",
      "2   Petrol  Individual       Manual   Third Owner               17.70  1497.0   \n",
      "3   Diesel  Individual       Manual   First Owner               23.00  1396.0   \n",
      "4   Petrol  Individual       Manual   First Owner               16.10  1298.0   \n",
      "5   Petrol  Individual       Manual   First Owner               20.14  1197.0   \n",
      "6      LPG  Individual       Manual   First Owner               17.30  1061.0   \n",
      "7   Petrol  Individual       Manual  Second Owner               16.10   796.0   \n",
      "8   Diesel  Individual       Manual   First Owner               23.59  1364.0   \n",
      "9   Diesel  Individual       Manual   First Owner               20.00  1399.0   \n",
      "10  Diesel  Individual       Manual  Second Owner               19.01  1461.0   \n",
      "11  Petrol  Individual       Manual  Second Owner               17.30   993.0   \n",
      "12  Diesel  Individual       Manual  Second Owner               19.30  1248.0   \n",
      "13  Petrol  Individual       Manual  Second Owner                 NaN     NaN   \n",
      "14  Petrol  Individual       Manual  Second Owner               18.90  1061.0   \n",
      "15  Petrol  Individual       Manual   First Owner               18.15  1198.0   \n",
      "16  Diesel  Individual       Manual  Second Owner               24.52  1248.0   \n",
      "17  Diesel  Individual       Manual  Second Owner               23.00  1396.0   \n",
      "18  Petrol  Individual       Manual  Second Owner               19.70   796.0   \n",
      "\n",
      "    max_power  seats  \n",
      "0       74.00    5.0  \n",
      "1      103.52    5.0  \n",
      "2       78.00    5.0  \n",
      "3       90.00    5.0  \n",
      "4       88.20    5.0  \n",
      "5       81.86    5.0  \n",
      "6       57.50    5.0  \n",
      "7       37.00    4.0  \n",
      "8       67.10    5.0  \n",
      "9       68.10    5.0  \n",
      "10     108.45    5.0  \n",
      "11      60.00    5.0  \n",
      "12      73.90    5.0  \n",
      "13        NaN    NaN  \n",
      "14      67.00    5.0  \n",
      "15      82.00    5.0  \n",
      "16      88.50    7.0  \n",
      "17      90.00    5.0  \n",
      "18      46.30    5.0  \n"
     ]
    }
   ],
   "source": [
    "# Load the dataset from the provided sample.csv file\n",
    "file_path = \"sample.xlsx\"\n",
    "df = pd.read_excel(file_path, sheet_name='Sheet1')\n",
    "print(df)"
   ]
  },
  {
   "cell_type": "code",
   "execution_count": 18,
   "id": "f62efdd0-0022-47eb-8c70-9eb689d27240",
   "metadata": {},
   "outputs": [
    {
     "data": {
      "text/plain": [
       "0     5.0\n",
       "1     5.0\n",
       "2     5.0\n",
       "3     5.0\n",
       "4     5.0\n",
       "5     5.0\n",
       "6     5.0\n",
       "7     4.0\n",
       "8     5.0\n",
       "9     5.0\n",
       "10    5.0\n",
       "11    5.0\n",
       "12    5.0\n",
       "13    5.0\n",
       "14    5.0\n",
       "15    5.0\n",
       "16    7.0\n",
       "17    5.0\n",
       "18    5.0\n",
       "Name: seats, dtype: float64"
      ]
     },
     "execution_count": 18,
     "metadata": {},
     "output_type": "execute_result"
    }
   ],
   "source": [
    "### 1. Handling Missing Values ###\n",
    "# Fill missing numerical values with median to avoid bias from extreme values\n",
    "df['mileage(km/ltr/kg)'].fillna(df['mileage(km/ltr/kg)'].median())\n",
    "df['engine'].fillna(df['engine'].median())\n",
    "df['seats'].fillna(df['seats'].median())"
   ]
  },
  {
   "cell_type": "code",
   "execution_count": 19,
   "id": "f9f5de89-5a45-47e1-826b-d3f7a12ab357",
   "metadata": {},
   "outputs": [],
   "source": [
    "# Convert 'max_power' from object to numeric, coercing errors to NaN if any non-numeric values exist\n",
    "df['max_power'] = pd.to_numeric(df['max_power'], errors='coerce')"
   ]
  },
  {
   "cell_type": "code",
   "execution_count": 21,
   "id": "6df1c1fd-c81d-4876-900a-6f096f8c4999",
   "metadata": {},
   "outputs": [
    {
     "data": {
      "text/plain": [
       "0      74.00\n",
       "1     103.52\n",
       "2      78.00\n",
       "3      90.00\n",
       "4      88.20\n",
       "5      81.86\n",
       "6      57.50\n",
       "7      37.00\n",
       "8      67.10\n",
       "9      68.10\n",
       "10    108.45\n",
       "11     60.00\n",
       "12     73.90\n",
       "13     76.00\n",
       "14     67.00\n",
       "15     82.00\n",
       "16     88.50\n",
       "17     90.00\n",
       "18     46.30\n",
       "Name: max_power, dtype: float64"
      ]
     },
     "execution_count": 21,
     "metadata": {},
     "output_type": "execute_result"
    }
   ],
   "source": [
    "# Fill missing values in 'max_power' with the median value\n",
    "df['max_power'].fillna(df['max_power'].median())"
   ]
  },
  {
   "cell_type": "code",
   "execution_count": 22,
   "id": "78eb676b-10c9-4408-8500-f22b36354b22",
   "metadata": {},
   "outputs": [],
   "source": [
    "### 2. Removing Duplicates ###\n",
    "# Drop duplicate rows to ensure data consistency\n",
    "df.drop_duplicates(inplace=True)"
   ]
  },
  {
   "cell_type": "code",
   "execution_count": 23,
   "id": "eed23fcd-197f-43e3-97d4-5fcd3c304d08",
   "metadata": {},
   "outputs": [],
   "source": [
    "### 3. Handling Outliers using the IQR Method ###\n",
    "def remove_outliers(df, column):\n",
    "    \"\"\"\n",
    "    Removes outliers from the given column using the Interquartile Range (IQR) method.\n",
    "    Any value outside 1.5 * IQR from Q1 and Q3 is considered an outlier.\n",
    "    \"\"\"\n",
    "    Q1 = df[column].quantile(0.25)  # First quartile (25th percentile)\n",
    "    Q3 = df[column].quantile(0.75)  # Third quartile (75th percentile)\n",
    "    IQR = Q3 - Q1  # Interquartile range\n",
    "    lower_bound = Q1 - 1.5 * IQR  # Lower bound for outliers\n",
    "    upper_bound = Q3 + 1.5 * IQR  # Upper bound for outliers\n",
    "    return df[(df[column] >= lower_bound) & (df[column] <= upper_bound)]  # Remove outliers\n",
    "\n",
    "# Apply outlier removal to numerical columns\n",
    "for col in ['selling_price', 'km_driven', 'mileage(km/ltr/kg)', 'engine', 'max_power']:\n",
    "    df = remove_outliers(df, col)\n",
    "\n",
    "### 4. Encoding Categorical Data ###\n",
    "# Convert categorical columns into numeric format using One-Hot Encoding\n",
    "# 'drop_first=True' avoids dummy variable trap by removing one category per feature\n",
    "df = pd.get_dummies(df, columns=['fuel', 'seller_type', 'transmission', 'owner'], drop_first=True)"
   ]
  },
  {
   "cell_type": "code",
   "execution_count": 24,
   "id": "37622742-b472-47ca-9077-b445063aeb28",
   "metadata": {},
   "outputs": [
    {
     "name": "stdout",
     "output_type": "stream",
     "text": [
      "                                    name  year  selling_price  km_driven  \\\n",
      "0                 Maruti Swift Dzire VDI  2014         450000     145500   \n",
      "1           Skoda Rapid 1.5 TDI Ambition  2014         370000     120000   \n",
      "2               Honda City 2017-2020 EXi  2006         158000     140000   \n",
      "3              Hyundai i20 Sportz Diesel  2010         225000     127000   \n",
      "4                 Maruti Swift VXI BSIII  2007         130000     120000   \n",
      "5          Hyundai Xcent 1.2 VTVT E Plus  2017         440000      45000   \n",
      "6           Maruti Wagon R LXI DUO BSIII  2007          96000     175000   \n",
      "7                     Maruti 800 DX BSII  2001          45000       5000   \n",
      "8                       Toyota Etios VXD  2011         350000      90000   \n",
      "9   Ford Figo Diesel Celebration Edition  2013         200000     169000   \n",
      "10       Renault Duster 110PS Diesel RxL  2014         500000      68000   \n",
      "11                         Maruti Zen LX  2005          92000     100000   \n",
      "12                Maruti Swift Dzire VDi  2009         280000     140000   \n",
      "13                  Maruti Swift 1.3 VXi  2007         200000      80000   \n",
      "14              Maruti Wagon R LXI Minor  2009         180000      90000   \n",
      "15  Mahindra KUV 100 mFALCON G80 K8 5str  2016         400000      40000   \n",
      "16                Maruti Ertiga SHVS VDI  2016         778000      70000   \n",
      "17             Hyundai i20 1.4 CRDi Asta  2012         500000      53000   \n",
      "18                        Maruti Alto LX  2002         150000      80000   \n",
      "\n",
      "    mileage(km/ltr/kg)  engine  max_power  seats  fuel_LPG  fuel_Petrol  \\\n",
      "0                23.40  1248.0      74.00    5.0     False        False   \n",
      "1                21.14  1498.0     103.52    5.0     False        False   \n",
      "2                17.70  1497.0      78.00    5.0     False         True   \n",
      "3                23.00  1396.0      90.00    5.0     False        False   \n",
      "4                16.10  1298.0      88.20    5.0     False         True   \n",
      "5                20.14  1197.0      81.86    5.0     False         True   \n",
      "6                17.30  1061.0      57.50    5.0      True        False   \n",
      "7                16.10   796.0      37.00    4.0     False         True   \n",
      "8                23.59  1364.0      67.10    5.0     False        False   \n",
      "9                20.00  1399.0      68.10    5.0     False        False   \n",
      "10               19.01  1461.0     108.45    5.0     False        False   \n",
      "11               17.30   993.0      60.00    5.0     False         True   \n",
      "12               19.30  1248.0      73.90    5.0     False        False   \n",
      "13               19.50  1248.0      76.00    5.0     False         True   \n",
      "14               18.90  1061.0      67.00    5.0     False         True   \n",
      "15               18.15  1198.0      82.00    5.0     False         True   \n",
      "16               24.52  1248.0      88.50    7.0     False        False   \n",
      "17               23.00  1396.0      90.00    5.0     False        False   \n",
      "18               19.70   796.0      46.30    5.0     False         True   \n",
      "\n",
      "    owner_Second Owner  owner_Third Owner  \n",
      "0                False              False  \n",
      "1                 True              False  \n",
      "2                False               True  \n",
      "3                False              False  \n",
      "4                False              False  \n",
      "5                False              False  \n",
      "6                False              False  \n",
      "7                 True              False  \n",
      "8                False              False  \n",
      "9                False              False  \n",
      "10                True              False  \n",
      "11                True              False  \n",
      "12                True              False  \n",
      "13                True              False  \n",
      "14                True              False  \n",
      "15               False              False  \n",
      "16                True              False  \n",
      "17                True              False  \n",
      "18                True              False  \n"
     ]
    }
   ],
   "source": [
    "print(df)"
   ]
  },
  {
   "cell_type": "code",
   "execution_count": 27,
   "id": "2836d94f-1809-49d4-a043-edc971302aea",
   "metadata": {},
   "outputs": [
    {
     "name": "stdout",
     "output_type": "stream",
     "text": [
      "✅ Data preprocessing completed. Cleaned dataset saved as 'processed_Cardekho_Dataset.csv'.\n"
     ]
    }
   ],
   "source": [
    "### 5. Save Processed Dataset ###\n",
    "# Save the cleaned and preprocessed dataset as a CSV file\n",
    "df.to_csv(\"C:/Users/Admin/Desktop/tybsc D98/Cars-Recommendation-System/processed_sample.csv\", index=False)\n",
    "\n",
    "print(\"✅ Data preprocessing completed. Cleaned dataset saved as 'processed_Cardekho_Dataset.csv'.\")"
   ]
  },
  {
   "cell_type": "code",
   "execution_count": null,
   "id": "c115184b-bfc0-4a58-bcee-b944ebfa8a0f",
   "metadata": {},
   "outputs": [],
   "source": []
  }
 ],
 "metadata": {
  "kernelspec": {
   "display_name": "Python 3 (ipykernel)",
   "language": "python",
   "name": "python3"
  },
  "language_info": {
   "codemirror_mode": {
    "name": "ipython",
    "version": 3
   },
   "file_extension": ".py",
   "mimetype": "text/x-python",
   "name": "python",
   "nbconvert_exporter": "python",
   "pygments_lexer": "ipython3",
   "version": "3.12.4"
  }
 },
 "nbformat": 4,
 "nbformat_minor": 5
}
