{
 "cells": [
  {
   "cell_type": "code",
   "execution_count": 29,
   "id": "e2872ed5-06a2-4ff7-83c8-86db4ffd383b",
   "metadata": {},
   "outputs": [],
   "source": [
    "import pandas as pd\n",
    "import numpy as np"
   ]
  },
  {
   "cell_type": "code",
   "execution_count": 30,
   "id": "da01a9d5-7cbe-452c-aa4f-26a4e68724dd",
   "metadata": {},
   "outputs": [
    {
     "name": "stdout",
     "output_type": "stream",
     "text": [
      "Original Data:\n",
      "        Id        Company               Model           Variant FuelType  \\\n",
      "0  555675  MARUTI SUZUKI  CELERIO(2017-2019)     1.0 ZXI AMT O   PETROL   \n",
      "1  556383  MARUTI SUZUKI                ALTO               LXI   PETROL   \n",
      "2  556422        HYUNDAI           GRAND I10    1.2 KAPPA ASTA   PETROL   \n",
      "3  556771           TATA               NEXON           XT PLUS   PETROL   \n",
      "4  559619           FORD                FIGO  EXI DURATORQ 1.4   DIESEL   \n",
      "\n",
      "   Colour  Kilometer  BodyStyle TransmissionType ManufactureDate  ModelYear  \\\n",
      "0  Silver      33197  HATCHBACK              NaN      01-02-2018       2018   \n",
      "1     Red      10322  HATCHBACK           Manual      01-03-2021       2021   \n",
      "2    Grey      37889  HATCHBACK           Manual      01-03-2015       2015   \n",
      "3    Blue      13106  HATCHBACK              NaN      01-08-2020       2020   \n",
      "4  Silver     104614  HATCHBACK           Manual      01-11-2010       2010   \n",
      "\n",
      "   CngKit       Price      Owner DealerState                      DealerName  \\\n",
      "0     NaN  5.75 Lakhs  1st Owner   Karnataka                   Top Gear Cars   \n",
      "1     NaN  4.35 Lakhs  1st Owner   Karnataka  Renew 4 u Automobiles PVT Ltd    \n",
      "2     NaN   4.7 Lakhs  1st Owner   Karnataka         Anant Cars Auto Pvt Ltd   \n",
      "3     NaN   9.9 Lakhs  1st Owner   Karnataka                    Adeep Motors   \n",
      "4     NaN   2.7 Lakhs  2nd Owner   Karnataka                  Zippy Automart   \n",
      "\n",
      "        City  Warranty  QualityScore  \n",
      "0  Bangalore         1           7.8  \n",
      "1  Bangalore         1           8.3  \n",
      "2  Bangalore         1           7.9  \n",
      "3  Bangalore         1           8.1  \n",
      "4  Bangalore         0           7.5  \n"
     ]
    }
   ],
   "source": [
    "# Load the dataset\n",
    "file_path = \"sample.csv\"\n",
    "df = pd.read_csv(file_path)\n",
    "print(\"Original Data:\\n\", df.head())"
   ]
  },
  {
   "cell_type": "code",
   "execution_count": 31,
   "id": "6cffad7c-88d9-4cc4-9a5d-c9275c670a1a",
   "metadata": {},
   "outputs": [
    {
     "name": "stdout",
     "output_type": "stream",
     "text": [
      "\n",
      "After Filling Missing FuelType:\n",
      "   FuelType\n",
      "0   PETROL\n",
      "1   PETROL\n",
      "2   PETROL\n",
      "3   PETROL\n",
      "4   DIESEL\n",
      "\n",
      "After Filling Missing TransmissionType:\n",
      "   TransmissionType\n",
      "0              NaN\n",
      "1           Manual\n",
      "2           Manual\n",
      "3              NaN\n",
      "4           Manual\n",
      "\n",
      "After Converting CngKit to Binary:\n",
      "    HasCNG\n",
      "0       0\n",
      "1       0\n",
      "2       0\n",
      "3       0\n",
      "4       0\n"
     ]
    }
   ],
   "source": [
    "# Step 1: Handle Missing Values\n",
    "# Fill missing FuelType with the most frequent value\n",
    "if 'FuelType' in df.columns:\n",
    "    df['FuelType'].fillna(df['FuelType'].mode()[0])\n",
    "print(\"\\nAfter Filling Missing FuelType:\\n\", df[['FuelType']].head())\n",
    "\n",
    "# Fill missing TransmissionType based on most common value per Model (if possible)\n",
    "if 'TransmissionType' in df.columns and 'Model' in df.columns:\n",
    "    df['TransmissionType'] = df.groupby('Model')['TransmissionType'].transform(lambda x: x.fillna(x.mode()[0]) if not x.mode().empty else x)\n",
    "print(\"\\nAfter Filling Missing TransmissionType:\\n\", df[['TransmissionType']].head())\n",
    "\n",
    "# Convert CngKit to a binary column if it exists\n",
    "if 'CngKit' in df.columns:\n",
    "    df['HasCNG'] = df['CngKit'].notna().astype(int)\n",
    "    df.drop(columns=['CngKit'])\n",
    "print(\"\\nAfter Converting CngKit to Binary:\\n\", df[['HasCNG']].head())"
   ]
  },
  {
   "cell_type": "code",
   "execution_count": 32,
   "id": "822a3764-a3fd-40b5-9c13-d0560320a1c4",
   "metadata": {},
   "outputs": [
    {
     "name": "stdout",
     "output_type": "stream",
     "text": [
      "\n",
      "After Converting ManufactureDate to datetime:\n",
      "   ManufactureDate\n",
      "0      2018-01-02\n",
      "1      2021-01-03\n",
      "2      2015-01-03\n",
      "3      2020-01-08\n",
      "4      2010-01-11\n",
      "\n",
      "After Converting Price to Numeric:\n",
      "       Price\n",
      "0  575000.0\n",
      "1  435000.0\n",
      "2  470000.0\n",
      "3  990000.0\n",
      "4  270000.0\n",
      "\n",
      "After Converting Owner to Numeric:\n",
      "    Owner\n",
      "0    1.0\n",
      "1    1.0\n",
      "2    1.0\n",
      "3    1.0\n",
      "4    2.0\n"
     ]
    }
   ],
   "source": [
    "# Step 2: Convert Data Types\n",
    "# Convert ManufactureDate to datetime format if it exists\n",
    "if 'ManufactureDate' in df.columns:\n",
    "    df['ManufactureDate'] = pd.to_datetime(df['ManufactureDate'], errors='coerce')\n",
    "print(\"\\nAfter Converting ManufactureDate to datetime:\\n\", df[['ManufactureDate']].head())\n",
    "\n",
    "# Convert Price from 'Lakhs' format to numeric if it exists\n",
    "if 'Price' in df.columns and df['Price'].dtype == object:\n",
    "    df['Price'] = df['Price'].str.replace(' Lakhs', '', regex=False).astype(float) * 100000\n",
    "print(\"\\nAfter Converting Price to Numeric:\\n\", df[['Price']].head())\n",
    "\n",
    "# Convert Owner column to numerical form if it exists\n",
    "if 'Owner' in df.columns and df['Owner'].dtype == object:\n",
    "    df['Owner'] = df['Owner'].str.extract(r'(\\d+)').astype(float)\n",
    "print(\"\\nAfter Converting Owner to Numeric:\\n\", df[['Owner']].head())"
   ]
  },
  {
   "cell_type": "code",
   "execution_count": 33,
   "id": "bc2a9a04-5dea-440a-851c-17617801a7b7",
   "metadata": {},
   "outputs": [
    {
     "name": "stdout",
     "output_type": "stream",
     "text": [
      "\n",
      "After Standardizing Company Names:\n",
      "          Company\n",
      "0  Maruti Suzuki\n",
      "1  Maruti Suzuki\n",
      "2        Hyundai\n",
      "3           Tata\n",
      "4           Ford\n",
      "\n",
      "After Standardizing Colour Names:\n",
      "    Colour\n",
      "0  Silver\n",
      "1     Red\n",
      "2    Grey\n",
      "3    Blue\n",
      "4  Silver\n"
     ]
    }
   ],
   "source": [
    "# Step 3: Standardization of Categorical Data\n",
    "# Normalize Company names to proper case if it exists\n",
    "if 'Company' in df.columns:\n",
    "    df['Company'] = df['Company'].str.title().str.strip()\n",
    "print(\"\\nAfter Standardizing Company Names:\\n\", df[['Company']].head())\n",
    "\n",
    "# Standardize Colour names if it exists\n",
    "if 'Colour' in df.columns:\n",
    "    df['Colour'] = df['Colour'].str.strip().str.capitalize()\n",
    "print(\"\\nAfter Standardizing Colour Names:\\n\", df[['Colour']].head())"
   ]
  },
  {
   "cell_type": "code",
   "execution_count": 34,
   "id": "73c18c7b-895f-40ce-af8b-3dea4bf47917",
   "metadata": {},
   "outputs": [
    {
     "name": "stdout",
     "output_type": "stream",
     "text": [
      "\n",
      "After Removing Duplicates:\n",
      "        Id        Company               Model           Variant FuelType  \\\n",
      "0  555675  Maruti Suzuki  CELERIO(2017-2019)     1.0 ZXI AMT O   PETROL   \n",
      "1  556383  Maruti Suzuki                ALTO               LXI   PETROL   \n",
      "2  556422        Hyundai           GRAND I10    1.2 KAPPA ASTA   PETROL   \n",
      "3  556771           Tata               NEXON           XT PLUS   PETROL   \n",
      "4  559619           Ford                FIGO  EXI DURATORQ 1.4   DIESEL   \n",
      "\n",
      "   Colour  Kilometer  BodyStyle TransmissionType ManufactureDate  ModelYear  \\\n",
      "0  Silver      33197  HATCHBACK              NaN      2018-01-02       2018   \n",
      "1     Red      10322  HATCHBACK           Manual      2021-01-03       2021   \n",
      "2    Grey      37889  HATCHBACK           Manual      2015-01-03       2015   \n",
      "3    Blue      13106  HATCHBACK              NaN      2020-01-08       2020   \n",
      "4  Silver     104614  HATCHBACK           Manual      2010-01-11       2010   \n",
      "\n",
      "   CngKit     Price  Owner DealerState                      DealerName  \\\n",
      "0     NaN  575000.0    1.0   Karnataka                   Top Gear Cars   \n",
      "1     NaN  435000.0    1.0   Karnataka  Renew 4 u Automobiles PVT Ltd    \n",
      "2     NaN  470000.0    1.0   Karnataka         Anant Cars Auto Pvt Ltd   \n",
      "3     NaN  990000.0    1.0   Karnataka                    Adeep Motors   \n",
      "4     NaN  270000.0    2.0   Karnataka                  Zippy Automart   \n",
      "\n",
      "        City  Warranty  QualityScore  HasCNG  \n",
      "0  Bangalore         1           7.8       0  \n",
      "1  Bangalore         1           8.3       0  \n",
      "2  Bangalore         1           7.9       0  \n",
      "3  Bangalore         1           8.1       0  \n",
      "4  Bangalore         0           7.5       0  \n"
     ]
    }
   ],
   "source": [
    "# Step 4: Remove Duplicates\n",
    "if {'Model', 'Variant', 'Kilometer', 'Price'}.issubset(df.columns):\n",
    "    df.drop_duplicates(subset=['Model', 'Variant', 'Kilometer', 'Price'], keep='first')\n",
    "print(\"\\nAfter Removing Duplicates:\\n\", df.head())"
   ]
  },
  {
   "cell_type": "code",
   "execution_count": 35,
   "id": "bf448aeb-4779-4950-b832-aab22d4feb4f",
   "metadata": {},
   "outputs": [
    {
     "name": "stdout",
     "output_type": "stream",
     "text": [
      "\n",
      "After Ensuring Numerical Consistency:\n",
      "        Id        Company               Model           Variant FuelType  \\\n",
      "0  555675  Maruti Suzuki  CELERIO(2017-2019)     1.0 ZXI AMT O   PETROL   \n",
      "1  556383  Maruti Suzuki                ALTO               LXI   PETROL   \n",
      "2  556422        Hyundai           GRAND I10    1.2 KAPPA ASTA   PETROL   \n",
      "3  556771           Tata               NEXON           XT PLUS   PETROL   \n",
      "4  559619           Ford                FIGO  EXI DURATORQ 1.4   DIESEL   \n",
      "\n",
      "   Colour  Kilometer  BodyStyle TransmissionType ManufactureDate  ModelYear  \\\n",
      "0  Silver      33197  HATCHBACK              NaN      2018-01-02       2018   \n",
      "1     Red      10322  HATCHBACK           Manual      2021-01-03       2021   \n",
      "2    Grey      37889  HATCHBACK           Manual      2015-01-03       2015   \n",
      "3    Blue      13106  HATCHBACK              NaN      2020-01-08       2020   \n",
      "4  Silver     104614  HATCHBACK           Manual      2010-01-11       2010   \n",
      "\n",
      "   CngKit     Price  Owner DealerState                      DealerName  \\\n",
      "0     NaN  575000.0    1.0   Karnataka                   Top Gear Cars   \n",
      "1     NaN  435000.0    1.0   Karnataka  Renew 4 u Automobiles PVT Ltd    \n",
      "2     NaN  470000.0    1.0   Karnataka         Anant Cars Auto Pvt Ltd   \n",
      "3     NaN  990000.0    1.0   Karnataka                    Adeep Motors   \n",
      "4     NaN  270000.0    2.0   Karnataka                  Zippy Automart   \n",
      "\n",
      "        City  Warranty  QualityScore  HasCNG  \n",
      "0  Bangalore         1           7.8       0  \n",
      "1  Bangalore         1           8.3       0  \n",
      "2  Bangalore         1           7.9       0  \n",
      "3  Bangalore         1           8.1       0  \n",
      "4  Bangalore         0           7.5       0  \n"
     ]
    }
   ],
   "source": [
    "# Step 5: Ensure Numerical Consistency\n",
    "if 'Kilometer' in df.columns:\n",
    "    df = df[(df['Kilometer'] > 0) & (df['Kilometer'] < 1_000_000)]\n",
    "if 'Price' in df.columns:\n",
    "    df = df[(df['Price'] > 10_000) & (df['Price'] < 10_000_000)]\n",
    "if 'Warranty' in df.columns:\n",
    "    df = df[df['Warranty'] >= 0]\n",
    "print(\"\\nAfter Ensuring Numerical Consistency:\\n\", df.head())"
   ]
  },
  {
   "cell_type": "code",
   "execution_count": 37,
   "id": "10a9f030-3dbf-40eb-a525-8ede478e6139",
   "metadata": {},
   "outputs": [
    {
     "name": "stdout",
     "output_type": "stream",
     "text": [
      "\n",
      "After Removing Outliers:\n",
      "        Id        Company               Model           Variant FuelType  \\\n",
      "0  555675  Maruti Suzuki  CELERIO(2017-2019)     1.0 ZXI AMT O   PETROL   \n",
      "1  556383  Maruti Suzuki                ALTO               LXI   PETROL   \n",
      "2  556422        Hyundai           GRAND I10    1.2 KAPPA ASTA   PETROL   \n",
      "3  556771           Tata               NEXON           XT PLUS   PETROL   \n",
      "4  559619           Ford                FIGO  EXI DURATORQ 1.4   DIESEL   \n",
      "\n",
      "   Colour  Kilometer  BodyStyle TransmissionType ManufactureDate  ModelYear  \\\n",
      "0  Silver      33197  HATCHBACK              NaN      2018-01-02       2018   \n",
      "1     Red      10322  HATCHBACK           Manual      2021-01-03       2021   \n",
      "2    Grey      37889  HATCHBACK           Manual      2015-01-03       2015   \n",
      "3    Blue      13106  HATCHBACK              NaN      2020-01-08       2020   \n",
      "4  Silver     104614  HATCHBACK           Manual      2010-01-11       2010   \n",
      "\n",
      "   CngKit     Price  Owner DealerState                      DealerName  \\\n",
      "0     NaN  575000.0    1.0   Karnataka                   Top Gear Cars   \n",
      "1     NaN  435000.0    1.0   Karnataka  Renew 4 u Automobiles PVT Ltd    \n",
      "2     NaN  470000.0    1.0   Karnataka         Anant Cars Auto Pvt Ltd   \n",
      "3     NaN  990000.0    1.0   Karnataka                    Adeep Motors   \n",
      "4     NaN  270000.0    2.0   Karnataka                  Zippy Automart   \n",
      "\n",
      "        City  Warranty  QualityScore  HasCNG  \n",
      "0  Bangalore         1           7.8       0  \n",
      "1  Bangalore         1           8.3       0  \n",
      "2  Bangalore         1           7.9       0  \n",
      "3  Bangalore         1           8.1       0  \n",
      "4  Bangalore         0           7.5       0  \n"
     ]
    }
   ],
   "source": [
    "# Step 6: Check for Outliers using Interquartile Range (IQR) method\n",
    "if 'Price' in df.columns:\n",
    "     Q1 = df['Price'].quantile(0.25)\n",
    "     Q3 = df['Price'].quantile(0.75)\n",
    "     IQR = Q3 - Q1\n",
    "     lower_bound = Q1 - 1.5 * IQR\n",
    "     upper_bound = Q3 + 1.5 * IQR\n",
    "     df = df[(df['Price'] >= lower_bound) & (df['Price'] <= upper_bound)]\n",
    "print(\"\\nAfter Removing Outliers:\\n\", df.head())"
   ]
  },
  {
   "cell_type": "code",
   "execution_count": 39,
   "id": "ee715ef3-ee7f-4174-b1d6-ef17cac4e7e9",
   "metadata": {},
   "outputs": [
    {
     "name": "stdout",
     "output_type": "stream",
     "text": [
      "\n",
      "Data cleaning complete. Cleaned file saved as 'cleaned_usedCars.csv'.\n"
     ]
    }
   ],
   "source": [
    "# Save cleaned dataset\n",
    "df.to_csv(\"C:/Users/Admin/Desktop/tybsc D98/Cars-Recommendation-System/cleaned_usedCars.csv\", index=False)\n",
    "print(\"\\nData cleaning complete. Cleaned file saved as 'cleaned_usedCars.csv'.\")"
   ]
  },
  {
   "cell_type": "code",
   "execution_count": null,
   "id": "2d499df2-29ba-4649-adc9-151b919eaccc",
   "metadata": {},
   "outputs": [],
   "source": []
  }
 ],
 "metadata": {
  "kernelspec": {
   "display_name": "Python 3 (ipykernel)",
   "language": "python",
   "name": "python3"
  },
  "language_info": {
   "codemirror_mode": {
    "name": "ipython",
    "version": 3
   },
   "file_extension": ".py",
   "mimetype": "text/x-python",
   "name": "python",
   "nbconvert_exporter": "python",
   "pygments_lexer": "ipython3",
   "version": "3.12.4"
  }
 },
 "nbformat": 4,
 "nbformat_minor": 5
}
